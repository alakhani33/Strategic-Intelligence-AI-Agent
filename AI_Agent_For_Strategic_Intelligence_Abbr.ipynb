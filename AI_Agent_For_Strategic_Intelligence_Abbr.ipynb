{
 "cells": [
  {
   "cell_type": "code",
   "execution_count": 3,
   "id": "9d158c78-43a5-4a28-8269-ff91393b997c",
   "metadata": {},
   "outputs": [],
   "source": [
    "from dotenv import load_dotenv\n",
    "import os"
   ]
  },
  {
   "cell_type": "code",
   "execution_count": 4,
   "id": "d9951c29-7bb8-44a1-9b06-733199c53bae",
   "metadata": {},
   "outputs": [],
   "source": [
    "# Load environment variables.\n",
    "load_dotenv()\n",
    "\n",
    "# Set the model name for our LLMs.\n",
    "GEMINI_MODEL = \"gemini-1.5-flash\"\n",
    "# Store the API key in a variable.\n",
    "GEMINI_API_KEY = os.getenv(\"GEMINI_API_KEY\")\n",
    "GOOGLE_API_KEY = os.getenv(\"GOOGLE_API_KEY\")"
   ]
  },
  {
   "cell_type": "code",
   "execution_count": 5,
   "id": "640fbfa2-9a4a-437f-b015-e932999e9978",
   "metadata": {},
   "outputs": [],
   "source": [
    "import json\n",
    "\n",
    "with open(\"kaiser_urls.json\", \"r\") as f:\n",
    "    urls = json.load(f)"
   ]
  },
  {
   "cell_type": "code",
   "execution_count": 6,
   "id": "6745cd92-5fad-4f44-8180-12cdcb9d6482",
   "metadata": {
    "scrolled": true
   },
   "outputs": [
    {
     "name": "stderr",
     "output_type": "stream",
     "text": [
      "USER_AGENT environment variable not set, consider setting it to identify your requests.\n",
      "C:\\Users\\19163\\AppData\\Local\\Temp\\ipykernel_9816\\3565807022.py:48: LangChainDeprecationWarning: LangChain agents will continue to be supported, but it is recommended for new use cases to be built with LangGraph. LangGraph offers a more flexible and full-featured framework for building agents, including support for tool-calling, persistence of state, and human-in-the-loop workflows. For details, refer to the `LangGraph documentation <https://langchain-ai.github.io/langgraph/>`_ as well as guides for `Migrating from AgentExecutor <https://python.langchain.com/docs/how_to/migrate_agent/>`_ and LangGraph's `Pre-built ReAct agent <https://langchain-ai.github.io/langgraph/how-tos/create-react-agent/>`_.\n",
      "  agent = initialize_agent(\n"
     ]
    },
    {
     "name": "stdout",
     "output_type": "stream",
     "text": [
      "* Running on local URL:  http://127.0.0.1:7866\n",
      "* To create a public link, set `share=True` in `launch()`.\n"
     ]
    },
    {
     "data": {
      "text/html": [
       "<div><iframe src=\"http://127.0.0.1:7866/\" width=\"100%\" height=\"500\" allow=\"autoplay; camera; microphone; clipboard-read; clipboard-write;\" frameborder=\"0\" allowfullscreen></iframe></div>"
      ],
      "text/plain": [
       "<IPython.core.display.HTML object>"
      ]
     },
     "metadata": {},
     "output_type": "display_data"
    },
    {
     "data": {
      "text/plain": []
     },
     "execution_count": 6,
     "metadata": {},
     "output_type": "execute_result"
    },
    {
     "name": "stdout",
     "output_type": "stream",
     "text": [
      "\n",
      "🔎 Trying WebsiteQA tool first...\n"
     ]
    },
    {
     "name": "stderr",
     "output_type": "stream",
     "text": [
      "C:\\Users\\19163\\AppData\\Local\\Temp\\ipykernel_9816\\3565807022.py:59: LangChainDeprecationWarning: The method `Chain.run` was deprecated in langchain 0.1.0 and will be removed in 1.0. Use :meth:`~invoke` instead.\n",
      "  website_answer = website_qa_chain.run(query_text)\n"
     ]
    },
    {
     "name": "stdout",
     "output_type": "stream",
     "text": [
      "\n",
      "🔎 Trying WebsiteQA tool first...\n"
     ]
    }
   ],
   "source": [
    "from langchain.document_loaders import WebBaseLoader\n",
    "from langchain.text_splitter import RecursiveCharacterTextSplitter\n",
    "from langchain.vectorstores import FAISS\n",
    "from langchain_google_genai import GoogleGenerativeAIEmbeddings\n",
    "from langchain.chains import RetrievalQA\n",
    "from langchain.tools import Tool\n",
    "from langchain.agents import initialize_agent, load_tools\n",
    "from langchain_google_genai import ChatGoogleGenerativeAI\n",
    "import gradio as gr\n",
    "\n",
    "# ✅ Initialize the model\n",
    "llm = ChatGoogleGenerativeAI(google_api_key=GEMINI_API_KEY, model=GEMINI_MODEL, temperature=0.3)\n",
    "\n",
    "# ✅ Step 1: Load the webpages\n",
    "loader = WebBaseLoader(urls)\n",
    "docs = loader.load()\n",
    "\n",
    "# ✅ Step 2: Split & embed the content\n",
    "splitter = RecursiveCharacterTextSplitter(chunk_size=1000, chunk_overlap=100)\n",
    "splits = splitter.split_documents(docs)\n",
    "\n",
    "embeddings = GoogleGenerativeAIEmbeddings(model=\"models/embedding-001\")\n",
    "# vectorstore = FAISS.from_documents(splits, embeddings)\n",
    "vectorstore = FAISS.load_local(\n",
    "    \"kaiser_faiss_index\",\n",
    "    embeddings,\n",
    "    allow_dangerous_deserialization=True  # ✅ explicit opt-in\n",
    ")\n",
    "\n",
    "\n",
    "# ✅ Create the retrieval QA chain\n",
    "website_qa_chain = RetrievalQA.from_chain_type(llm=llm, retriever=vectorstore.as_retriever())\n",
    "\n",
    "# ✅ Wrap as a custom tool\n",
    "website_tool = Tool(\n",
    "    name=\"WebsiteQA\",\n",
    "    func=lambda q: website_qa_chain.run(q),\n",
    "    description=\"Useful for answering questions based on the provided Kaiser Permanente webpages.\"\n",
    ")\n",
    "\n",
    "# ✅ Set up the built-in tools (Wikipedia & OpenWeatherMap)\n",
    "tools = load_tools(['wikipedia', \"openweathermap-api\"], llm=llm)\n",
    "\n",
    "# ✅ Combine the tools\n",
    "all_tools = tools + [website_tool]\n",
    "\n",
    "# ✅ Initialize the agent\n",
    "agent = initialize_agent(\n",
    "    all_tools,\n",
    "    llm=llm,\n",
    "    verbose=False,\n",
    "    handle_parsing_errors=True,\n",
    "    max_iterations=10\n",
    ")\n",
    "\n",
    "# ✅ Define the smart agent query function for Gradio\n",
    "def smart_agent_query_gradio(query_text):\n",
    "    print(\"\\n🔎 Trying WebsiteQA tool first...\")\n",
    "    website_answer = website_qa_chain.run(query_text)\n",
    "\n",
    "    fallback_needed = False\n",
    "    if not website_answer or len(website_answer.strip()) < 30:\n",
    "        fallback_needed = True\n",
    "    fallback_keywords = [\"I don't know\", \"no relevant information\", \"unable to find\", \"sorry\"]\n",
    "    if any(kw in website_answer.lower() for kw in fallback_keywords):\n",
    "        fallback_needed = True\n",
    "\n",
    "    if fallback_needed:\n",
    "        print(\"\\n↩️ Falling back to the agent (Wikipedia/OpenWeatherMap)...\")\n",
    "        result = agent.invoke({\"input\": query_text})\n",
    "        return result[\"output\"]\n",
    "    else:\n",
    "        return website_answer\n",
    "\n",
    "# ✅ Build Gradio UI\n",
    "with gr.Blocks() as demo:\n",
    "    gr.Markdown(\"# 🤖 Kaiser Permanente AI Agent\\nAsk any question below and I'll find the answer!\")\n",
    "\n",
    "    with gr.Row():\n",
    "        query_input = gr.Textbox(\n",
    "            lines=2,\n",
    "            placeholder=\"Ask your question here...\",\n",
    "            label=\"Your Question\"\n",
    "        )\n",
    "    with gr.Row():\n",
    "        output = gr.Textbox(\n",
    "            lines=10,\n",
    "            label=\"AI Answer\"\n",
    "        )\n",
    "\n",
    "    submit_button = gr.Button(\"Get Answer\")\n",
    "\n",
    "    # Link the function\n",
    "    submit_button.click(fn=smart_agent_query_gradio, inputs=query_input, outputs=output)\n",
    "\n",
    "# ✅ Launch Gradio app\n",
    "demo.launch()\n"
   ]
  },
  {
   "cell_type": "code",
   "execution_count": null,
   "id": "52601ca5-33d4-452e-8241-8b0f67d83338",
   "metadata": {},
   "outputs": [],
   "source": []
  },
  {
   "cell_type": "code",
   "execution_count": null,
   "id": "38ce2605-84b0-4162-9f9f-4399b2b51a3d",
   "metadata": {},
   "outputs": [],
   "source": []
  },
  {
   "cell_type": "code",
   "execution_count": null,
   "id": "9885f0a7-4876-46cd-97c6-d9b7ceb4cb9d",
   "metadata": {},
   "outputs": [],
   "source": []
  }
 ],
 "metadata": {
  "kernelspec": {
   "display_name": "Python 3 (ipykernel)",
   "language": "python",
   "name": "python3"
  },
  "language_info": {
   "codemirror_mode": {
    "name": "ipython",
    "version": 3
   },
   "file_extension": ".py",
   "mimetype": "text/x-python",
   "name": "python",
   "nbconvert_exporter": "python",
   "pygments_lexer": "ipython3",
   "version": "3.10.16"
  }
 },
 "nbformat": 4,
 "nbformat_minor": 5
}
